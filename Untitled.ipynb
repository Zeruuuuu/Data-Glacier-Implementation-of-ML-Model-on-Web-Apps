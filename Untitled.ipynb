{
 "cells": [
  {
   "cell_type": "markdown",
   "id": "15a03999",
   "metadata": {},
   "source": [
    "#### Zeru Zhou zeruzhou9@gmail.com"
   ]
  },
  {
   "cell_type": "markdown",
   "id": "470548ce",
   "metadata": {},
   "source": [
    "### This model aimed to predict the insurance premium price for the user based on health condition"
   ]
  },
  {
   "cell_type": "code",
   "execution_count": 41,
   "id": "acde9d4e",
   "metadata": {},
   "outputs": [],
   "source": [
    "import pandas as pd\n",
    "from sklearn.model_selection import train_test_split\n",
    "from sklearn.model_selection import GridSearchCV\n",
    "from sklearn.svm import SVR\n",
    "from sklearn.svm import LinearSVR\n",
    "import statsmodels.api as sm\n",
    "from sklearn.ensemble import RandomForestRegressor\n",
    "from sklearn.linear_model import Ridge, Lasso\n",
    "from sklearn.metrics import mean_absolute_percentage_error, mean_absolute_error\n",
    "from sklearn.preprocessing import MinMaxScaler\n",
    "import numpy as np\n",
    "import pickle"
   ]
  },
  {
   "cell_type": "markdown",
   "id": "5de5ef56",
   "metadata": {},
   "source": [
    "### Import data"
   ]
  },
  {
   "cell_type": "code",
   "execution_count": 3,
   "id": "2ac76b24",
   "metadata": {},
   "outputs": [
    {
     "data": {
      "text/html": [
       "<div>\n",
       "<style scoped>\n",
       "    .dataframe tbody tr th:only-of-type {\n",
       "        vertical-align: middle;\n",
       "    }\n",
       "\n",
       "    .dataframe tbody tr th {\n",
       "        vertical-align: top;\n",
       "    }\n",
       "\n",
       "    .dataframe thead th {\n",
       "        text-align: right;\n",
       "    }\n",
       "</style>\n",
       "<table border=\"1\" class=\"dataframe\">\n",
       "  <thead>\n",
       "    <tr style=\"text-align: right;\">\n",
       "      <th></th>\n",
       "      <th>Age</th>\n",
       "      <th>Diabetes</th>\n",
       "      <th>BloodPressureProblems</th>\n",
       "      <th>AnyTransplants</th>\n",
       "      <th>AnyChronicDiseases</th>\n",
       "      <th>Height</th>\n",
       "      <th>Weight</th>\n",
       "      <th>KnownAllergies</th>\n",
       "      <th>HistoryOfCancerInFamily</th>\n",
       "      <th>NumberOfMajorSurgeries</th>\n",
       "      <th>PremiumPrice</th>\n",
       "    </tr>\n",
       "  </thead>\n",
       "  <tbody>\n",
       "    <tr>\n",
       "      <th>0</th>\n",
       "      <td>45</td>\n",
       "      <td>0</td>\n",
       "      <td>0</td>\n",
       "      <td>0</td>\n",
       "      <td>0</td>\n",
       "      <td>155</td>\n",
       "      <td>57</td>\n",
       "      <td>0</td>\n",
       "      <td>0</td>\n",
       "      <td>0</td>\n",
       "      <td>25000</td>\n",
       "    </tr>\n",
       "    <tr>\n",
       "      <th>1</th>\n",
       "      <td>60</td>\n",
       "      <td>1</td>\n",
       "      <td>0</td>\n",
       "      <td>0</td>\n",
       "      <td>0</td>\n",
       "      <td>180</td>\n",
       "      <td>73</td>\n",
       "      <td>0</td>\n",
       "      <td>0</td>\n",
       "      <td>0</td>\n",
       "      <td>29000</td>\n",
       "    </tr>\n",
       "    <tr>\n",
       "      <th>2</th>\n",
       "      <td>36</td>\n",
       "      <td>1</td>\n",
       "      <td>1</td>\n",
       "      <td>0</td>\n",
       "      <td>0</td>\n",
       "      <td>158</td>\n",
       "      <td>59</td>\n",
       "      <td>0</td>\n",
       "      <td>0</td>\n",
       "      <td>1</td>\n",
       "      <td>23000</td>\n",
       "    </tr>\n",
       "    <tr>\n",
       "      <th>3</th>\n",
       "      <td>52</td>\n",
       "      <td>1</td>\n",
       "      <td>1</td>\n",
       "      <td>0</td>\n",
       "      <td>1</td>\n",
       "      <td>183</td>\n",
       "      <td>93</td>\n",
       "      <td>0</td>\n",
       "      <td>0</td>\n",
       "      <td>2</td>\n",
       "      <td>28000</td>\n",
       "    </tr>\n",
       "    <tr>\n",
       "      <th>4</th>\n",
       "      <td>38</td>\n",
       "      <td>0</td>\n",
       "      <td>0</td>\n",
       "      <td>0</td>\n",
       "      <td>1</td>\n",
       "      <td>166</td>\n",
       "      <td>88</td>\n",
       "      <td>0</td>\n",
       "      <td>0</td>\n",
       "      <td>1</td>\n",
       "      <td>23000</td>\n",
       "    </tr>\n",
       "  </tbody>\n",
       "</table>\n",
       "</div>"
      ],
      "text/plain": [
       "   Age  Diabetes  BloodPressureProblems  AnyTransplants  AnyChronicDiseases  \\\n",
       "0   45         0                      0               0                   0   \n",
       "1   60         1                      0               0                   0   \n",
       "2   36         1                      1               0                   0   \n",
       "3   52         1                      1               0                   1   \n",
       "4   38         0                      0               0                   1   \n",
       "\n",
       "   Height  Weight  KnownAllergies  HistoryOfCancerInFamily  \\\n",
       "0     155      57               0                        0   \n",
       "1     180      73               0                        0   \n",
       "2     158      59               0                        0   \n",
       "3     183      93               0                        0   \n",
       "4     166      88               0                        0   \n",
       "\n",
       "   NumberOfMajorSurgeries  PremiumPrice  \n",
       "0                       0         25000  \n",
       "1                       0         29000  \n",
       "2                       1         23000  \n",
       "3                       2         28000  \n",
       "4                       1         23000  "
      ]
     },
     "execution_count": 3,
     "metadata": {},
     "output_type": "execute_result"
    }
   ],
   "source": [
    "my_df = pd.read_csv('../data/Medicalpremium.csv')\n",
    "my_df.head()"
   ]
  },
  {
   "cell_type": "code",
   "execution_count": 5,
   "id": "1bd30dbd",
   "metadata": {},
   "outputs": [
    {
     "data": {
      "text/plain": [
       "Age    Diabetes  BloodPressureProblems  AnyTransplants  AnyChronicDiseases  Height  Weight  KnownAllergies  HistoryOfCancerInFamily  NumberOfMajorSurgeries  PremiumPrice\n",
       "False  False     False                  False           False               False   False   False           False                    False                   False           986\n",
       "dtype: int64"
      ]
     },
     "execution_count": 5,
     "metadata": {},
     "output_type": "execute_result"
    }
   ],
   "source": [
    "my_df.isna().value_counts()"
   ]
  },
  {
   "cell_type": "code",
   "execution_count": 7,
   "id": "c7cef5d0",
   "metadata": {},
   "outputs": [
    {
     "data": {
      "text/plain": [
       "False    986\n",
       "dtype: int64"
      ]
     },
     "execution_count": 7,
     "metadata": {},
     "output_type": "execute_result"
    }
   ],
   "source": [
    "my_df.duplicated().value_counts()"
   ]
  },
  {
   "cell_type": "markdown",
   "id": "8cbcbc76",
   "metadata": {},
   "source": [
    "### Split data"
   ]
  },
  {
   "cell_type": "code",
   "execution_count": 9,
   "id": "35d3f07e",
   "metadata": {},
   "outputs": [],
   "source": [
    "x = my_df.drop(columns=['PremiumPrice'])\n",
    "y = my_df['PremiumPrice']"
   ]
  },
  {
   "cell_type": "code",
   "execution_count": 13,
   "id": "d24d1faf",
   "metadata": {},
   "outputs": [],
   "source": [
    "train_x, test_x, train_y, test_y = train_test_split(x, y, test_size=0.15, random_state=42)"
   ]
  },
  {
   "cell_type": "code",
   "execution_count": 14,
   "id": "f27c3cd2",
   "metadata": {},
   "outputs": [
    {
     "data": {
      "text/plain": [
       "((838, 10), (838,), (148, 10), (148,))"
      ]
     },
     "execution_count": 14,
     "metadata": {},
     "output_type": "execute_result"
    }
   ],
   "source": [
    "train_x.shape, train_y.shape, test_x.shape, test_y.shape"
   ]
  },
  {
   "cell_type": "code",
   "execution_count": 26,
   "id": "e6a91c36",
   "metadata": {},
   "outputs": [],
   "source": [
    "train_x = MinMaxScaler().fit_transform(train_x)\n",
    "test_x = MinMaxScaler().fit_transform(test_x)"
   ]
  },
  {
   "cell_type": "markdown",
   "id": "c3417a02",
   "metadata": {},
   "source": [
    "### Linear Regression"
   ]
  },
  {
   "cell_type": "code",
   "execution_count": 32,
   "id": "8051da2d",
   "metadata": {},
   "outputs": [
    {
     "data": {
      "text/plain": [
       "(0.24611767165221682, 4503.3562487906365)"
      ]
     },
     "execution_count": 32,
     "metadata": {},
     "output_type": "execute_result"
    }
   ],
   "source": [
    "LR = sm.OLS(train_y, train_x).fit()\n",
    "y_pred = LR.predict(test_x)\n",
    "mape = mean_absolute_percentage_error(y_pred, test_y)\n",
    "mae = mean_absolute_error(y_pred, test_y)\n",
    "mape, mae"
   ]
  },
  {
   "cell_type": "markdown",
   "id": "8955c064",
   "metadata": {},
   "source": [
    "### SVM"
   ]
  },
  {
   "cell_type": "code",
   "execution_count": 34,
   "id": "d0c09ec5",
   "metadata": {},
   "outputs": [
    {
     "data": {
      "text/plain": [
       "(0.22497192812045264, 5212.911422280605)"
      ]
     },
     "execution_count": 34,
     "metadata": {},
     "output_type": "execute_result"
    }
   ],
   "source": [
    "svr = SVR()\n",
    "linearsvr = LinearSVR()\n",
    "\n",
    "params = {'C': np.linspace(0.01, 3, 50)}\n",
    "clf = GridSearchCV(svr, params).fit(train_x, train_y)\n",
    "y_pred = clf.predict(test_x)\n",
    "mape = mean_absolute_percentage_error(y_pred, test_y)\n",
    "mae = mean_absolute_error(y_pred, test_y)\n",
    "mape, mae"
   ]
  },
  {
   "cell_type": "code",
   "execution_count": 35,
   "id": "6dfc02ab",
   "metadata": {},
   "outputs": [
    {
     "data": {
      "text/plain": [
       "(3.6243763603144177, 19623.383451753598)"
      ]
     },
     "execution_count": 35,
     "metadata": {},
     "output_type": "execute_result"
    }
   ],
   "source": [
    "clf = GridSearchCV(linearsvr, params).fit(train_x, train_y)\n",
    "y_pred = clf.predict(test_x)\n",
    "mape = mean_absolute_percentage_error(y_pred, test_y)\n",
    "mae = mean_absolute_error(y_pred, test_y)\n",
    "mape, mae"
   ]
  },
  {
   "cell_type": "markdown",
   "id": "37dcdc14",
   "metadata": {},
   "source": [
    "### Tree Based Methods"
   ]
  },
  {
   "cell_type": "code",
   "execution_count": 36,
   "id": "40c2cf1d",
   "metadata": {},
   "outputs": [
    {
     "data": {
      "text/plain": [
       "(0.07345996455865725, 1820.2702702702702)"
      ]
     },
     "execution_count": 36,
     "metadata": {},
     "output_type": "execute_result"
    }
   ],
   "source": [
    "rdf = RandomForestRegressor(criterion='absolute_error', max_features='sqrt')\n",
    "params = {'ccp_alpha': np.logspace(-4, 4, 50)}\n",
    "\n",
    "clf = GridSearchCV(rdf, params).fit(train_x, train_y)\n",
    "y_pred = clf.predict(test_x)\n",
    "mape = mean_absolute_percentage_error(y_pred, test_y)\n",
    "mae = mean_absolute_error(y_pred, test_y)\n",
    "mape, mae"
   ]
  },
  {
   "cell_type": "markdown",
   "id": "c7d21a98",
   "metadata": {},
   "source": [
    "### Ridge and Lasso"
   ]
  },
  {
   "cell_type": "code",
   "execution_count": 37,
   "id": "9aa3d6c6",
   "metadata": {},
   "outputs": [
    {
     "data": {
      "text/plain": [
       "(0.11740223809367199, 2815.0486289245514)"
      ]
     },
     "execution_count": 37,
     "metadata": {},
     "output_type": "execute_result"
    }
   ],
   "source": [
    "ridge = Ridge()\n",
    "lasso = Lasso()\n",
    "params = {'alpha': np.logspace(-4, 4, 50)}\n",
    "\n",
    "clf = GridSearchCV(ridge, params).fit(train_x, train_y)\n",
    "y_pred = clf.predict(test_x)\n",
    "mape = mean_absolute_percentage_error(y_pred, test_y)\n",
    "mae = mean_absolute_error(y_pred, test_y)\n",
    "mape, mae"
   ]
  },
  {
   "cell_type": "code",
   "execution_count": 38,
   "id": "34c833cd",
   "metadata": {},
   "outputs": [
    {
     "data": {
      "text/plain": [
       "(0.11713108686280707, 2807.5822474897896)"
      ]
     },
     "execution_count": 38,
     "metadata": {},
     "output_type": "execute_result"
    }
   ],
   "source": [
    "clf = GridSearchCV(lasso, params).fit(train_x, train_y)\n",
    "y_pred = clf.predict(test_x)\n",
    "mape = mean_absolute_percentage_error(y_pred, test_y)\n",
    "mae = mean_absolute_error(y_pred, test_y)\n",
    "mape, mae"
   ]
  },
  {
   "cell_type": "markdown",
   "id": "c1893fc3",
   "metadata": {},
   "source": [
    "### Since this dataset doesn't have many data, and the features are mostly categorical, and we are doing a prediction task, it is common that some bias to appear. Here, based on the test results, I'll choose Random Forest Regressor."
   ]
  },
  {
   "cell_type": "code",
   "execution_count": 39,
   "id": "864919d2",
   "metadata": {},
   "outputs": [],
   "source": [
    "x = MinMaxScaler().fit_transform(x)"
   ]
  },
  {
   "cell_type": "code",
   "execution_count": 40,
   "id": "bc5aefec",
   "metadata": {},
   "outputs": [],
   "source": [
    "rdf = RandomForestRegressor(criterion='absolute_error', max_features='sqrt')\n",
    "params = {'ccp_alpha': np.logspace(-4, 4, 100)}\n",
    "clf = GridSearchCV(rdf, params).fit(x, y)"
   ]
  },
  {
   "cell_type": "code",
   "execution_count": 42,
   "id": "f80cc47d",
   "metadata": {},
   "outputs": [],
   "source": [
    "pickle.dump(clf, open('model.pkl', 'wb'))"
   ]
  }
 ],
 "metadata": {
  "kernelspec": {
   "display_name": "Python 3 (ipykernel)",
   "language": "python",
   "name": "python3"
  },
  "language_info": {
   "codemirror_mode": {
    "name": "ipython",
    "version": 3
   },
   "file_extension": ".py",
   "mimetype": "text/x-python",
   "name": "python",
   "nbconvert_exporter": "python",
   "pygments_lexer": "ipython3",
   "version": "3.9.12"
  }
 },
 "nbformat": 4,
 "nbformat_minor": 5
}
